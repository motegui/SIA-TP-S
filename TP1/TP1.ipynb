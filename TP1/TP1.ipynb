{
 "cells": [
  {
   "cell_type": "code",
   "execution_count": 4,
   "id": "initial_id",
   "metadata": {
    "collapsed": true,
    "ExecuteTime": {
     "end_time": "2024-03-26T03:56:12.669250Z",
     "start_time": "2024-03-26T03:56:07.398353Z"
    }
   },
   "outputs": [
    {
     "ename": "TypeError",
     "evalue": "'module' object is not iterable",
     "output_type": "error",
     "traceback": [
      "\u001B[0;31m---------------------------------------------------------------------------\u001B[0m",
      "\u001B[0;31mTypeError\u001B[0m                                 Traceback (most recent call last)",
      "Cell \u001B[0;32mIn[4], line 46\u001B[0m\n\u001B[1;32m     43\u001B[0m colors \u001B[38;5;241m=\u001B[39m [\u001B[38;5;124m'\u001B[39m\u001B[38;5;124mr\u001B[39m\u001B[38;5;124m'\u001B[39m, \u001B[38;5;124m'\u001B[39m\u001B[38;5;124mg\u001B[39m\u001B[38;5;124m'\u001B[39m, \u001B[38;5;124m'\u001B[39m\u001B[38;5;124mb\u001B[39m\u001B[38;5;124m'\u001B[39m, \u001B[38;5;124m'\u001B[39m\u001B[38;5;124my\u001B[39m\u001B[38;5;124m'\u001B[39m, \u001B[38;5;124m'\u001B[39m\u001B[38;5;124mpurple\u001B[39m\u001B[38;5;124m'\u001B[39m]\n\u001B[1;32m     45\u001B[0m \u001B[38;5;66;03m#Time graph\u001B[39;00m\n\u001B[0;32m---> 46\u001B[0m \u001B[43mbarGraphGroupedPercent\u001B[49m\u001B[43m(\u001B[49m\u001B[43mdata_time\u001B[49m\u001B[43m,\u001B[49m\u001B[43m \u001B[49m\u001B[38;5;241;43m0\u001B[39;49m\u001B[43m,\u001B[49m\u001B[43m \u001B[49m\u001B[38;5;241;43m2\u001B[39;49m\u001B[43m,\u001B[49m\u001B[43m \u001B[49m\u001B[43mgroupLabels\u001B[49m\u001B[43m,\u001B[49m\u001B[43m \u001B[49m\u001B[43mbarLabels\u001B[49m\u001B[43m,\u001B[49m\u001B[43m \u001B[49m\u001B[43mcolors\u001B[49m\u001B[43m,\u001B[49m\u001B[43m \u001B[49m\u001B[43mxLabel\u001B[49m\u001B[43m,\u001B[49m\u001B[43m \u001B[49m\u001B[38;5;124;43m\"\u001B[39;49m\u001B[38;5;124;43mTime\u001B[39;49m\u001B[38;5;124;43m\"\u001B[39;49m\u001B[43m,\u001B[49m\u001B[43m \u001B[49m\u001B[38;5;124;43m\"\u001B[39;49m\u001B[38;5;124;43mHola\u001B[39;49m\u001B[38;5;124;43m\"\u001B[39;49m\u001B[43m)\u001B[49m\n",
      "File \u001B[0;32m~/Documents/GitHub/SIA-TP-S/TP1/utils/graph_utils.py:26\u001B[0m, in \u001B[0;36mbarGraphGroupedPercent\u001B[0;34m(data, miny, maxY, groupLabels, barLabels, barColors, xLabel, yLabel, title)\u001B[0m\n\u001B[1;32m     24\u001B[0m ax\u001B[38;5;241m.\u001B[39mset_xticklabels(groupLabels)\n\u001B[1;32m     25\u001B[0m handles \u001B[38;5;241m=\u001B[39m []\n\u001B[0;32m---> 26\u001B[0m \u001B[38;5;28;01mfor\u001B[39;00m c \u001B[38;5;129;01min\u001B[39;00m colors: handles\u001B[38;5;241m.\u001B[39mappend(plt\u001B[38;5;241m.\u001B[39mRectangle((\u001B[38;5;241m0\u001B[39m,\u001B[38;5;241m0\u001B[39m),\u001B[38;5;241m1\u001B[39m,\u001B[38;5;241m1\u001B[39m, color\u001B[38;5;241m=\u001B[39mc))\n\u001B[1;32m     27\u001B[0m ax\u001B[38;5;241m.\u001B[39mlegend(handles, barLabels)\n\u001B[1;32m     29\u001B[0m plt\u001B[38;5;241m.\u001B[39mylim(miny, maxY)\n",
      "\u001B[0;31mTypeError\u001B[0m: 'module' object is not iterable"
     ]
    },
    {
     "data": {
      "text/plain": "<Figure size 640x480 with 1 Axes>",
      "image/png": "[encoded data removed]"
     },
     "metadata": {},
     "output_type": "display_data"
    }
   ],
   "source": [
    "from TP1.utils.process_map import process_map, read_file\n",
    "from TP1.utils.graph_utils import barGraphGroupedPercent\n",
    "from TP1.utils.heuristics import manhattan_heuristic\n",
    "from TP1.utils.algorithms_utils import generate_children_sokoban\n",
    "from TP1.utils.algorithms import bfs, dfs, global_greedy, local_greedy, astar\n",
    "import time\n",
    "\n",
    "uninformed_methods = [bfs, dfs]\n",
    "informed_methods = [local_greedy, global_greedy, astar]\n",
    "data_time = []\n",
    "cost = []\n",
    "border_nodes = []\n",
    "expanded_nodes=[]\n",
    "for i in range(1, 9):\n",
    "    level_time = []\n",
    "    level_cost = []\n",
    "    level_borders = []\n",
    "    level_expanded = []\n",
    "    state,start =process_map(read_file(\"./Levels/level\" + str(i) + \".txt\"))\n",
    "\n",
    "    for method in uninformed_methods:\n",
    "        start_time = time.time()\n",
    "        response = method(state, start, generate_children_sokoban)\n",
    "        level_time.append(time.time() - start_time)\n",
    "        level_cost.append(response[\"cost\"])\n",
    "        level_borders.append(response[\"border\"])\n",
    "        level_expanded.append(response[\"expanded_nodes\"])\n",
    "    for method in informed_methods:\n",
    "        start_time = time.time()\n",
    "        response = method(state, start, generate_children_sokoban, manhattan_heuristic)\n",
    "        level_time.append(time.time() - start_time)\n",
    "        level_cost.append(response[\"cost\"])\n",
    "        level_borders.append(response[\"border\"])\n",
    "        level_expanded.append(response[\"expanded_nodes\"])\n",
    "    data_time.append(level_time)\n",
    "    cost.append(level_cost)\n",
    "    border_nodes.append(level_borders)\n",
    "    expanded_nodes.append(level_expanded)\n",
    "\n",
    "groupLabels = [\"Level \" + str(i) for i in range(1, 9)]\n",
    "barLabels = [\"BFS\", \"DFS\", \"Local Greedy\", \"Global Greedy\", \"A*\"]\n",
    "xLabel = \"Level\"\n",
    "colors = ['r', 'g', 'b', 'y', 'purple']\n",
    "\n",
    "#Time graph\n",
    "barGraphGroupedPercent(data_time, 0, 2, groupLabels, barLabels, colors, xLabel, \"Time\", \"Hola\")\n"
   ]
  }
 ],
 "metadata": {
  "kernelspec": {
   "display_name": "Python 3",
   "language": "python",
   "name": "python3"
  },
  "language_info": {
   "codemirror_mode": {
    "name": "ipython",
    "version": 2
   },
   "file_extension": ".py",
   "mimetype": "text/x-python",
   "name": "python",
   "nbconvert_exporter": "python",
   "pygments_lexer": "ipython2",
   "version": "2.7.6"
  }
 },
 "nbformat": 4,
 "nbformat_minor": 5
}
