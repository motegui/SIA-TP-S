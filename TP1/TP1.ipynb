{
 "cells": [
  {
   "cell_type": "code",
   "execution_count": 1,
   "id": "initial_id",
   "metadata": {
    "collapsed": true,
    "ExecuteTime": {
     "end_time": "2024-03-19T21:47:34.802393Z",
     "start_time": "2024-03-19T21:47:34.794207Z"
    }
   },
   "outputs": [
    {
     "name": "stdout",
     "output_type": "stream",
     "text": [
      "BFS:\n",
      "root: 0\n",
      "node: 0\n",
      "node: 1\n",
      "node: 2\n",
      "node: 3\n",
      "node: 4\n",
      "node: 5\n",
      "node: 6\n",
      "node: 8\n",
      "node: 9\n",
      "DFS:\n",
      "root: 0\n",
      "node: 0\n",
      "node: 2\n",
      "node: 6\n",
      "node: 1\n",
      "node: 5\n",
      "node: 4\n",
      "node: 9\n",
      "node: 8\n",
      "node: 3\n"
     ]
    }
   ],
   "source": [
    "from utils.algorithms import bfs, dfs\n",
    "\n",
    "graph = {0: [1, 2], 1: [3, 4, 5], 2: [6], 4: [8, 9], 3: [], 5: [], 6: [], 8:[], 9: []}\n",
    "print(\"BFS:\")\n",
    "bfs(graph, 0)\n",
    "print(\"DFS:\")\n",
    "dfs(graph, 0)\n"
   ]
  }
 ],
 "metadata": {
  "kernelspec": {
   "display_name": "Python 3",
   "language": "python",
   "name": "python3"
  },
  "language_info": {
   "codemirror_mode": {
    "name": "ipython",
    "version": 2
   },
   "file_extension": ".py",
   "mimetype": "text/x-python",
   "name": "python",
   "nbconvert_exporter": "python",
   "pygments_lexer": "ipython2",
   "version": "2.7.6"
  }
 },
 "nbformat": 4,
 "nbformat_minor": 5
}
