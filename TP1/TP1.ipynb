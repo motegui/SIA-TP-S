{
 "cells": [
  {
   "cell_type": "code",
   "execution_count": 1,
   "id": "initial_id",
   "metadata": {
    "collapsed": true,
    "ExecuteTime": {
     "end_time": "2024-03-26T16:00:42.827616Z",
     "start_time": "2024-03-26T16:00:36.807678Z"
    }
   },
   "source": [
    "from TP1.utils import heuristics\n",
    "from TP1.utils.process_map import process_map, read_file\n",
    "from TP1.utils.graph_utils import *\n",
    "from TP1.utils.heuristics import *\n",
    "from TP1.utils.algorithms_utils import generate_children_sokoban\n",
    "from TP1.utils.algorithms import bfs, dfs, global_greedy, local_greedy, astar\n",
    "import time\n",
    "import numpy as np\n",
    "\n",
    "uninformed_methods = [bfs, dfs]\n",
    "informed_methods = [local_greedy, global_greedy, astar]\n",
    "data_time = []\n",
    "cost = []\n",
    "border_nodes = []\n",
    "expanded_nodes=[]\n",
    "for i in range(1, 9):\n",
    "    level_time = []\n",
    "    level_cost = []\n",
    "    level_borders = []\n",
    "    level_expanded = []\n",
    "    state,start =process_map(read_file(\"./Levels/level\" + str(i) + \".txt\"))\n",
    "\n",
    "    for method in uninformed_methods:\n",
    "        start_time = time.time()\n",
    "        response = method(state, start, generate_children_sokoban)\n",
    "        level_time.append(time.time() - start_time)\n",
    "        if response[\"status\"] == \"Failure\":\n",
    "            level_cost.append(0)\n",
    "        else:\n",
    "            level_cost.append(response[\"cost\"])\n",
    "        level_borders.append(response[\"border\"])\n",
    "        level_expanded.append(response[\"expanded_nodes\"])\n",
    "    for method in informed_methods:\n",
    "        start_time = time.time()\n",
    "        response = method(state, start, generate_children_sokoban, manhattan_heuristic)\n",
    "        level_time.append(time.time() - start_time)        \n",
    "        if response[\"status\"] == \"Failure\":\n",
    "            level_cost.append(0)\n",
    "        else:\n",
    "            level_cost.append(response[\"cost\"])\n",
    "        level_borders.append(response[\"border\"])\n",
    "        level_expanded.append(response[\"expanded_nodes\"])\n",
    "    data_time.append(level_time)\n",
    "    cost.append(level_cost)\n",
    "    border_nodes.append(level_borders)\n",
    "    expanded_nodes.append(level_expanded)\n",
    "\n",
    "groupLabels = [\"Level \" + str(i) for i in range(1, 9)]\n",
    "barLabels = [\"BFS\", \"DFS\", \"Local Greedy\", \"Global Greedy\", \"A*\"]\n",
    "xLabel = \"Level\"\n",
    "colors = ['r', 'g', 'b', 'y', 'purple'] \n",
    "\n",
    "print(expanded_nodes)\n",
    "#Time graph\n",
    "level_methods_bar_graph(data_time, 0, 1.3, groupLabels, barLabels, colors, xLabel, \"Time (seconds)\", \"Time of execution for each level with different methods\")\n",
    "level_methods_bar_graph(cost, 0, 200, groupLabels, barLabels, colors, xLabel, \"Cost\", \"Cost of solution for each level with different methods\")\n",
    "level_methods_bar_graph(border_nodes, 0, 200, groupLabels, barLabels, colors, xLabel, \"Border Nodes\", \"Border nodes for each level with different methods\")\n",
    "level_methods_bar_graph(expanded_nodes, 0, 4000, groupLabels, barLabels, colors, xLabel, \"Expanded Nodes\", \"Expanded nodes for each level with different methods\")\n",
    "\n"
   ],
   "outputs": []
  },
  {
   "cell_type": "code",
   "source": [
    "\n",
    "#Random for bfs and dfs\n",
    "all_times = [[], [], []]\n",
    "state, start = process_map(read_file(\"./Levels/level6.txt\"))\n",
    "for i in range(0, 10):\n",
    "    start_time = time.time()\n",
    "    bfs(state, start, generate_children_sokoban)\n",
    "    all_times[0].append(time.time() - start_time)\n",
    "    start_time = time.time()\n",
    "    astar(state, start, generate_children_sokoban, rand_heuristic)\n",
    "    all_times[1].append(time.time() - start_time)\n",
    "    start_time = time.time()\n",
    "    astar(state, start, generate_children_sokoban, player_movements_heuristic)\n",
    "    all_times[2].append(time.time() - start_time)\n",
    "\n",
    "bfs_times = all_times[0]\n",
    "astar_rand_times = all_times[1]\n",
    "astar_player_times = all_times[2]\n",
    "\n",
    "# Calcular promedios y varianzas\n",
    "bfs_mean = np.mean(bfs_times)\n",
    "bfs_variance = np.var(bfs_times)\n",
    "astar_rand_mean = np.mean(astar_rand_times)\n",
    "astar_rand_variance = np.var(astar_rand_times)\n",
    "astar_player_mean = np.mean(astar_player_times)\n",
    "astar_player_variance = np.var(astar_player_times)\n",
    "labels = ['BFS', 'A* (Random)', 'A* (Player Movements)']\n",
    "title = \"Average and variance of BFS and A* (random and player movements) execution times\"\n",
    "yLabel = \"Time (seconds)\"\n",
    "\n",
    "average_and_variance_graph([bfs_mean, astar_rand_mean, astar_player_mean], [bfs_variance, astar_rand_variance, astar_player_variance], labels, title, yLabel)"
   ],
   "metadata": {
    "collapsed": false,
    "ExecuteTime": {
     "end_time": "2024-03-26T16:01:04.709064Z",
     "start_time": "2024-03-26T16:00:42.828982Z"
    }
   },
   "id": "71d40b5c5d5a98f8",
   "execution_count": 2,
   "outputs": []
  },
  {
   "cell_type": "code",
   "source": [],
   "metadata": {
    "collapsed": false,
    "ExecuteTime": {
     "end_time": "2024-03-26T16:01:04.711638Z",
     "start_time": "2024-03-26T16:01:04.710081Z"
    }
   },
   "id": "b314612100234845",
   "execution_count": 2,
   "outputs": []
  },
  {
   "cell_type": "code",
   "source": [
    "data_time = []\n",
    "cost = []\n",
    "border_nodes = []\n",
    "expanded_nodes=[]\n",
    "heuristics = [manhattan_heuristic, euclidean_heuristic, player_movements_heuristic, rand_heuristic]\n",
    "\n",
    "\n",
    "for method in informed_methods:\n",
    "    level_time = []\n",
    "    level_cost = []\n",
    "    level_borders = []\n",
    "    level_expanded = []\n",
    "    state,start =process_map(read_file(\"./Levels/level7.txt\"))\n",
    "\n",
    "    for heuristic in heuristics:\n",
    "        start_time = time.time()\n",
    "        response = method(state, start, generate_children_sokoban, heuristic)\n",
    "        level_time.append(time.time() - start_time)\n",
    "        if response[\"status\"] == \"Failure\":\n",
    "            level_cost.append(0)\n",
    "        else:\n",
    "            level_cost.append(response[\"cost\"])\n",
    "        level_borders.append(response[\"border\"])\n",
    "        level_expanded.append(response[\"expanded_nodes\"])\n",
    "    \n",
    "    data_time.append(level_time)\n",
    "    cost.append(level_cost)\n",
    "    border_nodes.append(level_borders)\n",
    "    expanded_nodes.append(level_expanded)\n",
    "\n",
    "groupLabels = [\"Local Greedy\", \"Global Greedy\", \"A*\"]\n",
    "barLabels = [\"Manhattan\", \"Euclidean\", \"Player Movements\", \"Random\"]\n",
    "xLabel = \"Method\"\n",
    "colors = ['r', 'g', 'b', 'y', 'purple'] \n",
    "\n",
    "#Time graph\n",
    "level_methods_bar_graph(data_time, 0, 0.5, groupLabels, barLabels, colors, xLabel, \"Time (seconds)\", \"Time of execution for each informed method with different heuristics\")\n",
    "level_methods_bar_graph(cost, 0, 100, groupLabels, barLabels, colors, xLabel, \"Cost\", \"Cost of solution for each informed method with different heuristics\")\n",
    "level_methods_bar_graph(border_nodes, 0, 150, groupLabels, barLabels, colors, xLabel, \"Border Nodes\", \"Border nodes for each informed method with different heuristics\")\n",
    "level_methods_bar_graph(expanded_nodes, 0, 1500, groupLabels, barLabels, colors, xLabel, \"Expanded Nodes\", \"Expanded nodes for each informed method with different heuristics\")"
   ],
   "metadata": {
    "collapsed": false,
    "ExecuteTime": {
     "end_time": "2024-03-26T16:01:05.544792Z",
     "start_time": "2024-03-26T16:01:04.712339Z"
    }
   },
   "id": "b2c96863631e6271",
   "execution_count": 3,
   "outputs": []
  }
 ],
 "metadata": {
  "kernelspec": {
   "display_name": "Python 3",
   "language": "python",
   "name": "python3"
  },
  "language_info": {
   "codemirror_mode": {
    "name": "ipython",
    "version": 2
   },
   "file_extension": ".py",
   "mimetype": "text/x-python",
   "name": "python",
   "nbconvert_exporter": "python",
   "pygments_lexer": "ipython2",
   "version": "2.7.6"
  }
 },
 "nbformat": 4,
 "nbformat_minor": 5
}
