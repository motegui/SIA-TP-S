{
 "cells": [
  {
   "cell_type": "code",
   "id": "7b29d0d62d99c3b8",
   "metadata": {
    "collapsed": false,
    "ExecuteTime": {
     "end_time": "2024-05-16T21:20:14.448865Z",
     "start_time": "2024-05-16T21:20:14.368693Z"
    }
   },
   "source": [
    "from matplotlib.colors import LinearSegmentedColormap\n",
    "import pandas as pd\n",
    "import numpy as np\n",
    "from sklearn.decomposition import PCA\n",
    "\n",
    "import seaborn as sns \n",
    "\n",
    "from matplotlib import pyplot as plt\n",
    "from TP4.src.radius import constant\n",
    "from TP4.src.distance import euclidean\n",
    "from TP4.src.kohonen import kohonen\n",
    "from TP4.src.standarize import standardize\n",
    "\n",
    "def plot(means, std):\n",
    "    name = ['Area', 'GDP', 'Inflation', 'Life Expect', 'Military', 'Pop Growth', 'Unemployment']\n",
    "    color = [(1, 0.7, 0.7, 0.5),  # Rosa pastel transparente\n",
    "               (0.7, 1, 0.7, 0.5),  # Verde claro pastel transparente\n",
    "               (0.7, 0.7, 1, 0.5),  # Azul claro pastel transparente\n",
    "               (1, 0.85, 0.5, 0.5),  # Naranja claro pastel transparente\n",
    "               (0.5, 1, 1, 0.5),  # Cyan pastel transparente\n",
    "               (1, 0.5, 1, 0.5),  # Magenta pastel transparente\n",
    "               (1, 0.9, 0.7, 0.5)]  # Melocotón pastel transparente\n",
    "    \n",
    "    \n",
    "    # Crear un gráfico de barras con las medias\n",
    "    plt.bar(name, means, yerr=std, capsize=5, color=color)\n",
    "    \n",
    "    # Etiquetas y título\n",
    "    plt.xlabel('Input data')\n",
    "    plt.ylabel('Data mean')\n",
    "    plt.title('Mean and std with no standarize')\n",
    "    \n",
    "    # Mostrar el gráfico\n",
    "    plt.show()\n",
    "    \n",
    "    "
   ],
   "execution_count": 4,
   "outputs": []
  },
  {
   "cell_type": "code",
   "source": [
    "\n",
    "input_data = pd.read_csv('/Users/nicolastordomar/Desktop/SIA-TP-S/TP4/data/europe.csv')\n",
    "input_data = input_data[\n",
    "    ['Country', 'Area', 'GDP', 'Inflation', 'Life.expect', 'Military', 'Pop.growth', 'Unemployment']].values\n",
    "\n",
    "\n",
    "\n",
    "means = [np.mean(input_data[:,i]) for i in range(1,len(input_data[0]))]\n",
    "std = [np.std(input_data[:,i]) for i in range(1,len(input_data[0]))]\n",
    "\n",
    "plot(means,std)\n",
    "\n",
    "print(input_data)\n",
    "print('un tiempo mas tarde')\n",
    "#stadarized!\n",
    "input_data = np.array(standardize(input_data))\n",
    "print(input_data)\n",
    "# print(input_data[:,0])\n",
    "means = [np.mean(input_data[:,i].astype(float)) for i in range(1,len(input_data[0]))]\n",
    "std = [np.std(input_data[:,i].astype(float)) for i in range(1,len(input_data[0]))] \n",
    "# print(means)\n",
    "\n",
    "plot(means, std)"
   ],
   "metadata": {
    "collapsed": false
   },
   "id": "380c1fe65dd3eaee",
   "execution_count": null,
   "outputs": []
  },
  {
   "cell_type": "code",
   "source": [
    "\n",
    "\n",
    "pca = PCA(n_components=2)\n",
    "componentes_principales = pca.fit_transform(input_data)\n",
    "print(componentes_principales)\n",
    "\n",
    "\n",
    "# \n",
    "# \n",
    "# input_data = standardize(input_data)\n",
    "# network = kohonen(input_data, 2, 10000, euclidean, constant, 'input data', 0.1, 1)\n",
    "# \n",
    "# t = network.test(input_data)\n",
    "# colors = [(256, 256, 256), (1, 0, 0)]  # Negro al rojo\n",
    "# \n",
    "# # Crear el mapa de colores personalizado\n",
    "# cmap = LinearSegmentedColormap.from_list('custom', colors)\n",
    "# ax = sns.heatmap(t[0].astype(float), cmap=cmap, vmin=np.min(t[0].astype(float)), vmax=np.max(t[0].astype(float)))\n",
    "# plt.colorbar() \n",
    "# plt.show()\n",
    "# \n",
    "# print(t[0])\n",
    "# print(t[1])\n",
    "#     \n"
   ],
   "metadata": {
    "collapsed": true
   },
   "id": "initial_id",
   "execution_count": null,
   "outputs": []
  },
  {
   "metadata": {
    "ExecuteTime": {
     "end_time": "2024-05-16T21:20:14.470649Z",
     "start_time": "2024-05-16T21:20:14.464527Z"
    }
   },
   "cell_type": "code",
   "source": [],
   "id": "1aedbf8b64559f5",
   "execution_count": 4,
   "outputs": []
  }
 ],
 "metadata": {
  "kernelspec": {
   "display_name": "Python 3",
   "language": "python",
   "name": "python3"
  },
  "language_info": {
   "codemirror_mode": {
    "name": "ipython",
    "version": 2
   },
   "file_extension": ".py",
   "mimetype": "text/x-python",
   "name": "python",
   "nbconvert_exporter": "python",
   "pygments_lexer": "ipython2",
   "version": "2.7.6"
  }
 },
 "nbformat": 4,
 "nbformat_minor": 5
}
