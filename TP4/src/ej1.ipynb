{
 "cells": [
  {
   "cell_type": "code",
   "id": "initial_id",
   "metadata": {
    "collapsed": true,
    "ExecuteTime": {
     "end_time": "2024-05-10T21:47:11.443246Z",
     "start_time": "2024-05-10T21:47:11.329174Z"
    }
   },
   "source": [
    "from matplotlib.colors import LinearSegmentedColormap\n",
    "import pandas as pd\n",
    "import numpy as np\n",
    "import seaborn as sns \n",
    "\n",
    "from matplotlib import pyplot as plt\n",
    "from TP4.src.radius import constant\n",
    "from TP4.src.distance import euclidean\n",
    "from TP4.src.kohonen import kohonen\n",
    "from TP4.src.standarize import standardize\n",
    "\n",
    "input_data = pd.read_csv('/Users/motegui/Documents/GitHub/SIA-TP-S/TP4/data/europe.csv')\n",
    "input_data = input_data[\n",
    "    ['Country', 'Area', 'GDP', 'Inflation', 'Life.expect', 'Military', 'Pop.growth', 'Unemployment']].values\n",
    "\n",
    "input_data = standardize(input_data)\n",
    "network = kohonen(input_data, 2, 10000, euclidean, constant, 'input data', 0.1, 1)\n",
    "\n",
    "t = network.test(input_data)\n",
    "colors = [(256, 256, 256), (1, 0, 0)]  # Negro al rojo\n",
    "\n",
    "# Crear el mapa de colores personalizado\n",
    "cmap = LinearSegmentedColormap.from_list('custom', colors)\n",
    "ax = sns.heatmap(t[0].astype(float), cmap=cmap, vmin=np.min(t[0].astype(float)), vmax=np.max(t[0].astype(float)))\n",
    "plt.colorbar() \n",
    "plt.show()\n",
    "\n",
    "print(t[0])\n",
    "print(t[1])\n",
    "    \n"
   ],
   "outputs": [
    {
     "ename": "RuntimeError",
     "evalue": "No mappable was found to use for colorbar creation. First define a mappable such as an image (with imshow) or a contour set (with contourf).",
     "output_type": "error",
     "traceback": [
      "\u001B[0;31m---------------------------------------------------------------------------\u001B[0m",
      "\u001B[0;31mRuntimeError\u001B[0m                              Traceback (most recent call last)",
      "Cell \u001B[0;32mIn[33], line 25\u001B[0m\n\u001B[1;32m     23\u001B[0m cmap \u001B[38;5;241m=\u001B[39m LinearSegmentedColormap\u001B[38;5;241m.\u001B[39mfrom_list(\u001B[38;5;124m'\u001B[39m\u001B[38;5;124mcustom\u001B[39m\u001B[38;5;124m'\u001B[39m, colors)\n\u001B[1;32m     24\u001B[0m ax \u001B[38;5;241m=\u001B[39m sns\u001B[38;5;241m.\u001B[39mheatmap(t[\u001B[38;5;241m0\u001B[39m]\u001B[38;5;241m.\u001B[39mastype(\u001B[38;5;28mfloat\u001B[39m), cmap\u001B[38;5;241m=\u001B[39mcmap)\n\u001B[0;32m---> 25\u001B[0m \u001B[43mplt\u001B[49m\u001B[38;5;241;43m.\u001B[39;49m\u001B[43mcolorbar\u001B[49m\u001B[43m(\u001B[49m\u001B[43m)\u001B[49m \n\u001B[1;32m     26\u001B[0m plt\u001B[38;5;241m.\u001B[39mshow()\n\u001B[1;32m     28\u001B[0m \u001B[38;5;28mprint\u001B[39m(t[\u001B[38;5;241m0\u001B[39m])\n",
      "File \u001B[0;32m/Library/Python/3.9/site-packages/matplotlib/pyplot.py:2337\u001B[0m, in \u001B[0;36mcolorbar\u001B[0;34m(mappable, cax, ax, **kwargs)\u001B[0m\n\u001B[1;32m   2335\u001B[0m     mappable \u001B[38;5;241m=\u001B[39m gci()\n\u001B[1;32m   2336\u001B[0m     \u001B[38;5;28;01mif\u001B[39;00m mappable \u001B[38;5;129;01mis\u001B[39;00m \u001B[38;5;28;01mNone\u001B[39;00m:\n\u001B[0;32m-> 2337\u001B[0m         \u001B[38;5;28;01mraise\u001B[39;00m \u001B[38;5;167;01mRuntimeError\u001B[39;00m(\u001B[38;5;124m'\u001B[39m\u001B[38;5;124mNo mappable was found to use for colorbar \u001B[39m\u001B[38;5;124m'\u001B[39m\n\u001B[1;32m   2338\u001B[0m                            \u001B[38;5;124m'\u001B[39m\u001B[38;5;124mcreation. First define a mappable such as \u001B[39m\u001B[38;5;124m'\u001B[39m\n\u001B[1;32m   2339\u001B[0m                            \u001B[38;5;124m'\u001B[39m\u001B[38;5;124man image (with imshow) or a contour set (\u001B[39m\u001B[38;5;124m'\u001B[39m\n\u001B[1;32m   2340\u001B[0m                            \u001B[38;5;124m'\u001B[39m\u001B[38;5;124mwith contourf).\u001B[39m\u001B[38;5;124m'\u001B[39m)\n\u001B[1;32m   2341\u001B[0m ret \u001B[38;5;241m=\u001B[39m gcf()\u001B[38;5;241m.\u001B[39mcolorbar(mappable, cax\u001B[38;5;241m=\u001B[39mcax, ax\u001B[38;5;241m=\u001B[39max, \u001B[38;5;241m*\u001B[39m\u001B[38;5;241m*\u001B[39mkwargs)\n\u001B[1;32m   2342\u001B[0m \u001B[38;5;28;01mreturn\u001B[39;00m ret\n",
      "\u001B[0;31mRuntimeError\u001B[0m: No mappable was found to use for colorbar creation. First define a mappable such as an image (with imshow) or a contour set (with contourf)."
     ]
    },
    {
     "data": {
      "text/plain": [
       "<Figure size 640x480 with 2 Axes>"
      ],
      "image/png": "[encoded data removed]"
     },
     "metadata": {},
     "output_type": "display_data"
    }
   ],
   "execution_count": 33
  },
  {
   "metadata": {},
   "cell_type": "code",
   "source": "",
   "id": "1aedbf8b64559f5",
   "outputs": [],
   "execution_count": null
  }
 ],
 "metadata": {
  "kernelspec": {
   "display_name": "Python 3",
   "language": "python",
   "name": "python3"
  },
  "language_info": {
   "codemirror_mode": {
    "name": "ipython",
    "version": 2
   },
   "file_extension": ".py",
   "mimetype": "text/x-python",
   "name": "python",
   "nbconvert_exporter": "python",
   "pygments_lexer": "ipython2",
   "version": "2.7.6"
  }
 },
 "nbformat": 4,
 "nbformat_minor": 5
}
