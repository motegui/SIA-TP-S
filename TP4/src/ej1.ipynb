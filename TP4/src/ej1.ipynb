{
 "cells": [
  {
   "cell_type": "code",
   "id": "initial_id",
   "metadata": {
    "collapsed": true,
    "ExecuteTime": {
     "end_time": "2024-05-10T21:47:11.443246Z",
     "start_time": "2024-05-10T21:47:11.329174Z"
    }
   },
   "source": [
    "from matplotlib.colors import LinearSegmentedColormap\n",
    "import pandas as pd\n",
    "import numpy as np\n",
    "import seaborn as sns \n",
    "\n",
    "from matplotlib import pyplot as plt\n",
    "from TP4.src.radius import constant\n",
    "from TP4.src.distance import euclidean\n",
    "from TP4.src.kohonen import kohonen\n",
    "from TP4.src.standarize import standardize\n",
    "\n",
    "input_data = pd.read_csv('/Users/motegui/Documents/GitHub/SIA-TP-S/TP4/data/europe.csv')\n",
    "input_data = input_data[\n",
    "    ['Country', 'Area', 'GDP', 'Inflation', 'Life.expect', 'Military', 'Pop.growth', 'Unemployment']].values\n",
    "\n",
    "input_data = standardize(input_data)\n",
    "network = kohonen(input_data, 2, 10000, euclidean, constant, 'input data', 0.1, 1)\n",
    "\n",
    "t = network.test(input_data)\n",
    "colors = [(256, 256, 256), (1, 0, 0)]  # Negro al rojo\n",
    "\n",
    "# Crear el mapa de colores personalizado\n",
    "cmap = LinearSegmentedColormap.from_list('custom', colors)\n",
    "ax = sns.heatmap(t[0].astype(float), cmap=cmap, vmin=np.min(t[0].astype(float)), vmax=np.max(t[0].astype(float)))\n",
    "plt.colorbar() \n",
    "plt.show()\n",
    "\n",
    "print(t[0])\n",
    "print(t[1])\n",
    "    \n"
   ],
   "execution_count": 33,
   "outputs": []
  },
  {
   "metadata": {},
   "cell_type": "code",
   "source": "",
   "id": "1aedbf8b64559f5",
   "execution_count": null,
   "outputs": []
  }
 ],
 "metadata": {
  "kernelspec": {
   "display_name": "Python 3",
   "language": "python",
   "name": "python3"
  },
  "language_info": {
   "codemirror_mode": {
    "name": "ipython",
    "version": 2
   },
   "file_extension": ".py",
   "mimetype": "text/x-python",
   "name": "python",
   "nbconvert_exporter": "python",
   "pygments_lexer": "ipython2",
   "version": "2.7.6"
  }
 },
 "nbformat": 4,
 "nbformat_minor": 5
}
